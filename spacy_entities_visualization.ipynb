{
 "cells": [
  {
   "cell_type": "code",
   "execution_count": null,
   "metadata": {},
   "outputs": [],
   "source": [
    "import spacy\n",
    "from spacy import displacy\n",
    "from collections import Counter\n",
    "nlp = spacy.load(\"en_core_web_md\")\n",
    "nlp.max_length = 6000000000\n",
    "import itertools\n",
    "from itertools import zip_longest\n",
    "import os\n",
    "import tkinter as tk\n",
    "from tkinter.filedialog import askdirectory, askopenfilename\n",
    "\n",
    "mylist2 = list()\n",
    "\n",
    "def get_directory2():\n",
    "    root2 = tk.Tk()\n",
    "    #root.withdraw()\n",
    "    bpath2 = askdirectory(parent=root2, title='Please select a folder')\n",
    "    root2.destroy()\n",
    "    return bpath2\n",
    "\n",
    "\n",
    "filepath2 = get_directory2()\n",
    "print(\"Absolute filepath:\", filepath2)\n",
    "\n",
    "\n",
    "for subdir2, dirs, file2 in os.walk(filepath2):\n",
    "    for index2, f2 in enumerate(file2):\n",
    "        f2 = os.path.join(subdir2, f2)\n",
    "        fi2 = open(f2, encoding=\"utf8\")\n",
    "        with fi2 as fileName2:\n",
    "            content2 = fileName2.read()\n",
    "            mylist2.append(content2)\n",
    "            docum2 = nlp(content2)\n",
    "\n",
    "        \n",
    "#print out the name of the file\n",
    "            print(\"Filename: \", file2[index2])\n",
    "    \n",
    "            display_entity_jupyter = input(\"Do you want to display the entity spaCy Visualizer in your jupyter notebooks? Enter Y/N: \")\n",
    "            if display_entity_jupyter == \"Y\":\n",
    "                displacy.render(docum2, style=\"ent\", jupyter=True)\n",
    "            else:\n",
    "                continue\n",
    "            "
   ]
  }
 ],
 "metadata": {
  "kernelspec": {
   "display_name": "Python 3",
   "language": "python",
   "name": "python3"
  },
  "language_info": {
   "codemirror_mode": {
    "name": "ipython",
    "version": 3
   },
   "file_extension": ".py",
   "mimetype": "text/x-python",
   "name": "python",
   "nbconvert_exporter": "python",
   "pygments_lexer": "ipython3",
   "version": "3.7.4"
  }
 },
 "nbformat": 4,
 "nbformat_minor": 2
}
