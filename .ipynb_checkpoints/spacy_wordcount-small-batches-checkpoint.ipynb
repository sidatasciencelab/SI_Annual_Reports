{
 "cells": [
  {
   "cell_type": "markdown",
   "metadata": {},
   "source": [
    "Load spaCy and the English language module (downloaded with python -m spacy download en_core_web_sm):"
   ]
  },
  {
   "cell_type": "code",
   "execution_count": 1,
   "metadata": {},
   "outputs": [],
   "source": [
    "import spacy\n",
    "from collections import Counter\n",
    "nlp = spacy.load(\"en_core_web_md\")\n",
    "nlp.max_length = 2000000"
   ]
  },
  {
   "cell_type": "code",
   "execution_count": 2,
   "metadata": {
    "scrolled": true
   },
   "outputs": [
    {
     "name": "stdout",
     "output_type": "stream",
     "text": [
      "Filename:  1857-1859_All_Annual_Report.txt\n",
      "the simlarity of Ms is: 0.20938696448170363\n",
      "the simlarity of Dr is: 0.23515878691924974\n",
      "the simlarity of Miss is: 0.48457236312611773\n",
      "the simlarity of Mrs is: 0.05907079728558828\n",
      "the simlarity of Professor is: 0.3136144976625327\n",
      "the simlarity of Mr is: 0.2550379891583556\n",
      "the simlarity of Dr is: 0.21018630816371509\n",
      "the first a: 0.20938696448170363\n"
     ]
    },
    {
     "ename": "NameError",
     "evalue": "name 'c' is not defined",
     "output_type": "error",
     "traceback": [
      "\u001b[1;31m---------------------------------------------------------------------------\u001b[0m",
      "\u001b[1;31mNameError\u001b[0m                                 Traceback (most recent call last)",
      "\u001b[1;32m<ipython-input-2-ed9f55201d06>\u001b[0m in \u001b[0;36m<module>\u001b[1;34m\u001b[0m\n\u001b[0;32m     55\u001b[0m             \u001b[0ma\u001b[0m \u001b[1;33m=\u001b[0m \u001b[0mdocumentsimilarity1\u001b[0m\u001b[1;33m\u001b[0m\u001b[1;33m\u001b[0m\u001b[0m\n\u001b[0;32m     56\u001b[0m             \u001b[0mprint\u001b[0m\u001b[1;33m(\u001b[0m\u001b[1;34m\"the first a:\"\u001b[0m\u001b[1;33m,\u001b[0m \u001b[0ma\u001b[0m\u001b[1;33m)\u001b[0m\u001b[1;33m\u001b[0m\u001b[1;33m\u001b[0m\u001b[0m\n\u001b[1;32m---> 57\u001b[1;33m             \u001b[0mprint\u001b[0m\u001b[1;33m(\u001b[0m\u001b[1;34m\"c: \"\u001b[0m\u001b[1;33m,\u001b[0m \u001b[0mc\u001b[0m\u001b[1;33m)\u001b[0m\u001b[1;33m\u001b[0m\u001b[1;33m\u001b[0m\u001b[0m\n\u001b[0m\u001b[0;32m     58\u001b[0m             \u001b[1;32mfor\u001b[0m \u001b[0mc\u001b[0m \u001b[1;32min\u001b[0m \u001b[0mitertools\u001b[0m\u001b[1;33m.\u001b[0m\u001b[0mcombinations\u001b[0m\u001b[1;33m(\u001b[0m\u001b[0mcomparelist\u001b[0m\u001b[1;33m,\u001b[0m \u001b[1;36m2\u001b[0m\u001b[1;33m)\u001b[0m\u001b[1;33m:\u001b[0m\u001b[1;33m\u001b[0m\u001b[1;33m\u001b[0m\u001b[0m\n\u001b[0;32m     59\u001b[0m                 \u001b[0mprint\u001b[0m\u001b[1;33m(\u001b[0m\u001b[1;34m\"INSIDE THE LOOP. c: \"\u001b[0m\u001b[1;33m,\u001b[0m \u001b[0mc\u001b[0m\u001b[1;33m)\u001b[0m\u001b[1;33m\u001b[0m\u001b[1;33m\u001b[0m\u001b[0m\n",
      "\u001b[1;31mNameError\u001b[0m: name 'c' is not defined"
     ]
    }
   ],
   "source": [
    "#create a for loop that loops through the whole file folder and reads the file and saves it as a variable \"content\"\n",
    "import os\n",
    "import itertools\n",
    "\n",
    "doc1 = nlp(\"Ms\")\n",
    "doc2 = nlp(\"Dr\")\n",
    "doc3 = nlp(\"Miss\")\n",
    "doc4 = nlp(\"Mrs\")\n",
    "doc5 = nlp(\"Professor\")\n",
    "doc6 = nlp(\"Mr\")\n",
    "doc7 = nlp(\"Missus\")\n",
    "mylist = list()\n",
    "#comparelist = list()\n",
    "nlp.max_length = 40000000\n",
    "\n",
    "filepath = os.path.dirname('C:/Users/Grace Surface Book/OneDrive/Documents/GMU/Spring 2020/HIST 794 - Internship in Applied History/No Whitespace Annual Reports/All Annual Reports/')\n",
    "for subdir, dirs, file in os.walk(filepath):\n",
    "    for index, f in enumerate(file):\n",
    "        f = os.path.join(subdir, f)\n",
    "        fi = open(f)\n",
    "        #print(len(f))\n",
    "        with fi as fileName:\n",
    "            content = fileName.read()\n",
    "            mylist.append(content)\n",
    "            #print(\"the max_length is:\", nlp.max_length)\n",
    "            #32783162\n",
    "            docum = nlp(content)\n",
    "#have the similarity part be \"docu[#]simularity1 = docu[#].similarity(doc1)\" - This is not quite done. Will need to investigate more the two lines below.\n",
    "            #docu = ''.join(str(index))\n",
    "            #print(\"docu is\", docu)\n",
    "        \n",
    "#print out the name of the file\n",
    "            print(\"Filename: \", file[index])\n",
    "    \n",
    "#print out the values for similarities 1-7 for that document\n",
    "            documentsimilarity1 = docum.similarity(doc1)\n",
    "            print(\"the simlarity of Ms is:\", documentsimilarity1)\n",
    "            documentsimilarity2 = docum.similarity(doc2)\n",
    "            print(\"the simlarity of Dr is:\", documentsimilarity2)\n",
    "            documentsimilarity3 = docum.similarity(doc3)\n",
    "            print(\"the simlarity of Miss is:\", documentsimilarity3)\n",
    "            documentsimilarity4 = docum.similarity(doc4)\n",
    "            print(\"the simlarity of Mrs is:\", documentsimilarity4)\n",
    "            documentsimilarity5 = docum.similarity(doc5)\n",
    "            print(\"the simlarity of Professor is:\", documentsimilarity5)            \n",
    "            documentsimilarity6 = docum.similarity(doc6)\n",
    "            print(\"the simlarity of Mr is:\", documentsimilarity6)            \n",
    "            documentsimilarity7 = docum.similarity(doc7)\n",
    "            print(\"the simlarity of Dr is:\", documentsimilarity7)            \n",
    "            \n",
    "#do the similarity for docu[2]comparesimilarity1 = docu[2]similarity1.docu[1]similarity1. - STILL NEED TO DO.\n",
    "            \n",
    "            #bob = comparelist.append(documentsimilarity1)\n",
    "            #print(\"bob is: \", bob)\n",
    "            a = documentsimilarity1\n",
    "            print(\"the first a:\", a)\n",
    "            #print(\"c: \", c)\n",
    "            for c in itertools.combinations(comparelist, 2):\n",
    "                print(\"INSIDE THE LOOP. c: \", c)\n",
    "                #c = documentsimilarity1\n",
    "                print(\"HELLO\")\n",
    "                #comparelist.append(c)\n",
    "                print(\"comparelist: \", comparelist)\n",
    "                print(\"comparelist element 0: \", comparelist[0])\n",
    "                print(\"comparelist element 1: \", comparelist[1])\n",
    "                if c:\n",
    "                    comparedocs = str(comparelist[0]).similarity(str(comparelist[1]))\n",
    "                    print(\"comparedocs: \", comparedocs)\n",
    "                else:\n",
    "                    print(\"FALSE\")\n",
    "                    comparesimilarity1 = a.similarity(c)\n",
    "                    print(\"comparesimilarity1: \", comparesimilarity1)\n",
    "                    #print(\"A comparesimilarity1: \", a)\n",
    "                    #print(\"B comparesimilarity2: \", b)"
   ]
  },
  {
   "cell_type": "code",
   "execution_count": 29,
   "metadata": {},
   "outputs": [
    {
     "name": "stdout",
     "output_type": "stream",
     "text": [
      "hash value: 9787940499352115096\n",
      "hash value: 12921814047719899021\n",
      "string value: Smithsonian\n",
      "string value: Dr.\n"
     ]
    }
   ],
   "source": [
    "print('hash value:', nlp.vocab.strings['Smithsonian'])\n",
    "print('hash value:', nlp.vocab.strings['Dr.'])\n",
    "print('string value:', nlp.vocab.strings[9787940499352115096])\n",
    "print('string value:', nlp.vocab.strings[12921814047719899021])"
   ]
  }
 ],
 "metadata": {
  "kernelspec": {
   "display_name": "Python 3",
   "language": "python",
   "name": "python3"
  },
  "language_info": {
   "codemirror_mode": {
    "name": "ipython",
    "version": 3
   },
   "file_extension": ".py",
   "mimetype": "text/x-python",
   "name": "python",
   "nbconvert_exporter": "python",
   "pygments_lexer": "ipython3",
   "version": "3.7.4"
  }
 },
 "nbformat": 4,
 "nbformat_minor": 2
}
