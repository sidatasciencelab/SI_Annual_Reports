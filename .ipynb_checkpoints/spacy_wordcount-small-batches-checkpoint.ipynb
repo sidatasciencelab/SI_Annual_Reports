{
 "cells": [
  {
   "cell_type": "markdown",
   "metadata": {},
   "source": [
    "Load spaCy and the English language module (downloaded with python -m spacy download en_core_web_sm):"
   ]
  },
  {
   "cell_type": "code",
   "execution_count": 10,
   "metadata": {},
   "outputs": [],
   "source": [
    "import spacy\n",
    "from collections import Counter\n",
    "nlp = spacy.load(\"en_core_web_md\")\n",
    "nlp.max_length = 2000000"
   ]
  },
  {
   "cell_type": "code",
   "execution_count": 13,
   "metadata": {},
   "outputs": [],
   "source": [
    "annual_report_1967 = open(\"C:/Users/Grace Surface Book/OneDrive/Desktop/annual_report_1967.txt\",\"r\")\n",
    "doc = nlp(annual_report_1967.read())"
   ]
  },
  {
   "cell_type": "code",
   "execution_count": 14,
   "metadata": {},
   "outputs": [
    {
     "name": "stdout",
     "output_type": "stream",
     "text": [
      "The similarity within the 1967 Annual Report:\n",
      "Ms: 0.2538131794291593\n",
      "Dr: 0.2964548957425836\n",
      "Miss: 0.47649851034011714\n",
      "Mrs: 0.11580516548589292\n",
      "Professor: 0.3740391610848687\n",
      "Mr: 0.29941201100079434\n",
      "Missus: 0.18008186375829544\n"
     ]
    }
   ],
   "source": [
    "doc1 = nlp(\"Ms\")\n",
    "doc2 = nlp(\"Dr\")\n",
    "doc3 = nlp(\"Miss\")\n",
    "doc4 = nlp(\"Mrs\")\n",
    "doc5 = nlp(\"Professor\")\n",
    "doc6 = nlp(\"Mr\")\n",
    "doc7 = nlp(\"Missus\")\n",
    "\n",
    "similarity1 = doc.similarity(doc1)\n",
    "similarity2 = doc.similarity(doc2)\n",
    "similarity3 = doc.similarity(doc3)\n",
    "similarity4 = doc.similarity(doc4)\n",
    "similarity5 = doc.similarity(doc5)\n",
    "similarity6 = doc.similarity(doc6)\n",
    "similarity7 = doc.similarity(doc7)\n",
    "print(\"The similarity within the 1967 Annual Report:\")\n",
    "print('Ms:', similarity1)\n",
    "print('Dr:', similarity2)\n",
    "print('Miss:', similarity3)\n",
    "print('Mrs:', similarity4)\n",
    "print('Professor:', similarity5)\n",
    "print('Mr:', similarity6)\n",
    "print('Missus:', similarity7)"
   ]
  },
  {
   "cell_type": "code",
   "execution_count": 25,
   "metadata": {},
   "outputs": [],
   "source": [
    "annual_report_1849 = open(\"C:/Users/Grace Surface Book/OneDrive/Documents/GMU/Spring 2020/HIST 794 - Internship in Applied History/No Whitespace Annual Reports/annualreporto18491961smit_djvu (1).txt\", \"r\")\n",
    "docu2 = nlp(annual_report_1849.read())"
   ]
  },
  {
   "cell_type": "code",
   "execution_count": 26,
   "metadata": {
    "scrolled": true
   },
   "outputs": [
    {
     "name": "stdout",
     "output_type": "stream",
     "text": [
      "The similarity within the 1849 Annual Report:\n",
      "Ms: 0.332651926585802\n",
      "Dr: 0.35161969560336803\n",
      "Miss: 0.4117646191124662\n",
      "Mrs: 0.12002810510536133\n",
      "Professor: 0.2947190883374591\n",
      "Mr: 0.3436716305648986\n",
      "Missus: 0.11320671917508766\n"
     ]
    }
   ],
   "source": [
    "doc1 = nlp(\"Ms\")\n",
    "doc2 = nlp(\"Dr\")\n",
    "doc3 = nlp(\"Miss\")\n",
    "doc4 = nlp(\"Mrs\")\n",
    "doc5 = nlp(\"Professor\")\n",
    "doc6 = nlp(\"Mr\")\n",
    "doc7 = nlp(\"Missus\")\n",
    "\n",
    "similarity1 = docu2.similarity(doc1)\n",
    "similarity2 = docu2.similarity(doc2)\n",
    "similarity3 = docu2.similarity(doc3)\n",
    "similarity4 = docu2.similarity(doc4)\n",
    "similarity5 = docu2.similarity(doc5)\n",
    "similarity6 = docu2.similarity(doc6)\n",
    "similarity7 = docu2.similarity(doc7)\n",
    "print(\"The similarity within the 1849 Annual Report:\")\n",
    "print('Ms:', similarity1)\n",
    "print('Dr:', similarity2)\n",
    "print('Miss:', similarity3)\n",
    "print('Mrs:', similarity4)\n",
    "print('Professor:', similarity5)\n",
    "print('Mr:', similarity6)\n",
    "print('Missus:', similarity7)"
   ]
  },
  {
   "cell_type": "code",
   "execution_count": 29,
   "metadata": {},
   "outputs": [
    {
     "name": "stdout",
     "output_type": "stream",
     "text": [
      "hash value: 9787940499352115096\n",
      "hash value: 12921814047719899021\n",
      "string value: Smithsonian\n",
      "string value: Dr.\n"
     ]
    }
   ],
   "source": [
    "print('hash value:', nlp.vocab.strings['Smithsonian'])\n",
    "print('hash value:', nlp.vocab.strings['Dr.'])\n",
    "print('string value:', nlp.vocab.strings[9787940499352115096])\n",
    "print('string value:', nlp.vocab.strings[12921814047719899021])"
   ]
  },
  {
   "cell_type": "code",
   "execution_count": 2,
   "metadata": {},
   "outputs": [
    {
     "ename": "AttributeError",
     "evalue": "'_io.TextIOWrapper' object has no attribute 'strip'",
     "output_type": "error",
     "traceback": [
      "\u001b[1;31m---------------------------------------------------------------------------\u001b[0m",
      "\u001b[1;31mAttributeError\u001b[0m                            Traceback (most recent call last)",
      "\u001b[1;32m<ipython-input-2-10fe09094805>\u001b[0m in \u001b[0;36m<module>\u001b[1;34m\u001b[0m\n\u001b[0;32m      1\u001b[0m \u001b[0mannual_report_1847\u001b[0m \u001b[1;33m=\u001b[0m \u001b[0mopen\u001b[0m\u001b[1;33m(\u001b[0m\u001b[1;34m\"C:/Users/Grace Surface Book/OneDrive/Documents/GMU/Spring 2020/HIST 794 - Internship in Applied History/spaCy-Annual Reports/si_report_1847.txt\"\u001b[0m\u001b[1;33m,\u001b[0m \u001b[1;34m\"r\"\u001b[0m\u001b[1;33m)\u001b[0m\u001b[1;33m\u001b[0m\u001b[1;33m\u001b[0m\u001b[0m\n\u001b[0;32m      2\u001b[0m \u001b[1;32mfor\u001b[0m \u001b[0mi\u001b[0m \u001b[1;32min\u001b[0m \u001b[0mannual_report_1847\u001b[0m\u001b[1;33m:\u001b[0m\u001b[1;33m\u001b[0m\u001b[1;33m\u001b[0m\u001b[0m\n\u001b[1;32m----> 3\u001b[1;33m     \u001b[0mnowhitespace\u001b[0m \u001b[1;33m=\u001b[0m \u001b[0mannual_report_1847\u001b[0m\u001b[1;33m.\u001b[0m\u001b[0mstrip\u001b[0m\u001b[1;33m(\u001b[0m\u001b[1;33m)\u001b[0m\u001b[1;33m\u001b[0m\u001b[1;33m\u001b[0m\u001b[0m\n\u001b[0m",
      "\u001b[1;31mAttributeError\u001b[0m: '_io.TextIOWrapper' object has no attribute 'strip'"
     ]
    }
   ],
   "source": [
    "#annual_report_1847 = open(\"C:/Users/Grace Surface Book/OneDrive/Documents/GMU/Spring 2020/HIST 794 - Internship in Applied History/spaCy-Annual Reports/si_report_1847.txt\", \"r\")\n",
    "#for i in annual_report_1847:\n",
    "#    nowhitespace = annual_report_1847.strip()"
   ]
  }
 ],
 "metadata": {
  "kernelspec": {
   "display_name": "Python 3",
   "language": "python",
   "name": "python3"
  },
  "language_info": {
   "codemirror_mode": {
    "name": "ipython",
    "version": 3
   },
   "file_extension": ".py",
   "mimetype": "text/x-python",
   "name": "python",
   "nbconvert_exporter": "python",
   "pygments_lexer": "ipython3",
   "version": "3.7.4"
  }
 },
 "nbformat": 4,
 "nbformat_minor": 2
}
