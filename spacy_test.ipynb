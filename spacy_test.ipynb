{
 "cells": [
  {
   "cell_type": "markdown",
   "metadata": {},
   "source": [
    "Load spaCy and the English language module (downloaded with python -m spacy download en_core_web_sm):"
   ]
  },
  {
   "cell_type": "code",
   "execution_count": 1,
   "metadata": {},
   "outputs": [],
   "source": [
    "import spacy\n",
    "from collections import Counter\n",
    "nlp = spacy.load(\"en_core_web_md\")\n",
    "nlp.max_length = 2000000"
   ]
  },
  {
   "cell_type": "code",
   "execution_count": 2,
   "metadata": {},
   "outputs": [],
   "source": [
    "annual_report_1967 = open(\"C:/Users/Grace Surface Book/OneDrive/Desktop/annual_report_1967.txt\",\"r\")\n",
    "doc = nlp(annual_report_1967.read())"
   ]
  },
  {
   "cell_type": "code",
   "execution_count": 10,
   "metadata": {},
   "outputs": [
    {
     "name": "stdout",
     "output_type": "stream",
     "text": [
      "Common words by text function\n",
      "[('1967', 867), ('pp', 685), ('1966', 620), ('Smithsonian', 521), ('Mrs.', 509), ('vol', 470), ('1', 458), ('American', 373), ('University', 356), ('year', 355), ('Museum', 351), ('Mr.', 344), ('National', 339), ('research', 312), ('new', 294), ('H.', 283), ('J.', 263), ('SMITHSONIAN', 248), ('W.', 243), ('Institution', 238), ('A.', 235), ('2', 234), ('YEAR', 232), ('3', 231), ('collection', 219), ('E.', 219), ('study', 214), ('John', 210), ('New', 209), ('L.', 202), ('C.', 200), ('Gallery', 195), ('Art', 191), ('CO', 189), ('States', 185), ('R.', 185), ('United', 183), ('program', 183), ('collections', 183), ('M.', 182), ('S.', 178), ('Washington', 175), ('History', 174), ('William', 173), ('staff', 171), ('B.', 168), ('species', 163), ('Director', 158), ('Center', 157), ('Curator', 155)]\n"
     ]
    }
   ],
   "source": [
    "words_text = [token.text for token in doc if token.is_stop != True and token.is_punct != True and len(token.text.strip()) > 0]\n",
    "word_text_freq = Counter(words_text)\n",
    "common_words_text = word_text_freq.most_common(50)\n",
    "print(\"Common words by text function\")\n",
    "print(common_words_text)"
   ]
  },
  {
   "cell_type": "code",
   "execution_count": 11,
   "metadata": {},
   "outputs": [
    {
     "name": "stdout",
     "output_type": "stream",
     "text": [
      "Common words by norm function\n",
      "[('1967', 867), ('smithsonian', 773), ('pp', 698), ('1966', 620), ('year', 596), ('museum', 529), ('mrs.', 509), ('new', 503), ('research', 494), ('vol', 471), ('1', 458), ('national', 439), ('american', 378), ('history', 371), ('university', 369), ('mr.', 344), ('art', 323), ('co', 321), ('collection', 305), ('h.', 283), ('j.', 263), ('institution', 256), ('program', 252), ('w.', 243), ('a.', 238), ('study', 238), ('2', 234), ('gallery', 233), ('3', 231), ('collections', 224), ('curator', 224), ('center', 220), ('e.', 219), ('john', 212), ('l.', 202), ('staff', 201), ('office', 201), ('c.', 200), ('states', 197), ('r.', 185), ('united', 184), ('p.', 184), ('o', 182), ('m.', 182), ('s.', 178), ('washington', 176), ('william', 173), ('studies', 169), ('director', 169), ('b.', 168)]\n"
     ]
    }
   ],
   "source": [
    "words_norm = [token.norm_ for token in doc if token.is_stop != True and token.is_punct != True and len(token.text.strip()) > 0]\n",
    "word_norm_freq = Counter(words_norm)\n",
    "common_words_norm = word_norm_freq.most_common(50)\n",
    "print(\"Common words by norm function\")\n",
    "print(common_words_norm)"
   ]
  },
  {
   "cell_type": "code",
   "execution_count": 12,
   "metadata": {},
   "outputs": [
    {
     "name": "stdout",
     "output_type": "stream",
     "text": [
      "Common words by lemma function\n",
      "[('1967', 867), ('pp', 696), ('year', 662), ('1966', 620), ('Mrs.', 509), ('vol', 473), ('1', 458), ('study', 455), ('Smithsonian', 431), ('collection', 429), ('University', 354), ('research', 346), ('Mr.', 344), ('Museum', 337), ('National', 335), ('new', 322), ('H.', 282), ('program', 266), ('J.', 263), ('work', 260), ('history', 254), ('SMITHSONIAN', 244), ('W.', 242), ('continue', 235), ('2', 234), ('museum', 233), ('3', 231), ('E.', 219), ('exhibit', 218), ('Institution', 215), ('John', 210), ('L.', 202), ('C.', 200), ('American', 199), ('Gallery', 195), ('art', 191), ('CO', 189), ('staff', 187), ('R.', 185), ('include', 184), ('United', 183), ('New', 183), ('M.', 182), ('present', 180), ('S.', 178), ('Washington', 176), ('States', 176), ('o', 176), ('american', 174), ('William', 173)]\n"
     ]
    }
   ],
   "source": [
    "words_lemma = [token.lemma_ for token in doc if token.is_stop != True and token.is_punct != True and len(token.text.strip()) > 0]\n",
    "\n",
    "word_lemma_freq = Counter(words_lemma)\n",
    "\n",
    "common_words_lemma = word_lemma_freq.most_common(50)\n",
    "print(\"Common words by lemma function\")\n",
    "print(common_words_lemma)"
   ]
  },
  {
   "cell_type": "code",
   "execution_count": 17,
   "metadata": {},
   "outputs": [
    {
     "name": "stdout",
     "output_type": "stream",
     "text": [
      "hash value: 9787940499352115096\n",
      "string value: Smithsonian\n"
     ]
    }
   ],
   "source": [
    "print('hash value:', nlp.vocab.strings['Smithsonian'])\n",
    "print('string value:', nlp.vocab.strings[9787940499352115096])"
   ]
  },
  {
   "cell_type": "code",
   "execution_count": 16,
   "metadata": {},
   "outputs": [
    {
     "name": "stdout",
     "output_type": "stream",
     "text": [
      "The similarity within the 1967 Annual Report:\n",
      "Ms: 0.2538131794291593\n",
      "Dr: 0.2964548957425836\n",
      "Miss: 0.47649851034011714\n",
      "Mrs: 0.11580516548589292\n",
      "Professor: 0.3740391610848687\n",
      "Mr: 0.29941201100079434\n"
     ]
    }
   ],
   "source": [
    "doc1 = nlp(\"Ms\")\n",
    "doc2 = nlp(\"Dr\")\n",
    "doc3 = nlp(\"Miss\")\n",
    "doc4 = nlp(\"Mrs\")\n",
    "doc5 = nlp(\"Professor\")\n",
    "doc6 = nlp(\"Mr\")\n",
    "\n",
    "similarity1 = doc.similarity(doc1)\n",
    "similarity2 = doc.similarity(doc2)\n",
    "similarity3 = doc.similarity(doc3)\n",
    "similarity4 = doc.similarity(doc4)\n",
    "similarity5 = doc.similarity(doc5)\n",
    "similarity6 = doc.similarity(doc6)\n",
    "print(\"The similarity within the 1967 Annual Report:\")\n",
    "print('Ms:', similarity1)\n",
    "print('Dr:', similarity2)\n",
    "print('Miss:', similarity3)\n",
    "print('Mrs:', similarity4)\n",
    "print('Professor:', similarity5)\n",
    "print('Mr:', similarity6)"
   ]
  },
  {
   "cell_type": "code",
   "execution_count": null,
   "metadata": {},
   "outputs": [],
   "source": []
  }
 ],
 "metadata": {
  "kernelspec": {
   "display_name": "Python 3",
   "language": "python",
   "name": "python3"
  },
  "language_info": {
   "codemirror_mode": {
    "name": "ipython",
    "version": 3
   },
   "file_extension": ".py",
   "mimetype": "text/x-python",
   "name": "python",
   "nbconvert_exporter": "python",
   "pygments_lexer": "ipython3",
   "version": "3.7.4"
  }
 },
 "nbformat": 4,
 "nbformat_minor": 2
}
