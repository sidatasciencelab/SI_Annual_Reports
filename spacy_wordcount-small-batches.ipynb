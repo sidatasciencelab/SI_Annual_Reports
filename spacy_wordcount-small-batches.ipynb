{
 "cells": [
  {
   "cell_type": "markdown",
   "metadata": {},
   "source": [
    "Load spaCy and the English language module (downloaded with python -m spacy download en_core_web_sm):"
   ]
  },
  {
   "cell_type": "code",
   "execution_count": 141,
   "metadata": {},
   "outputs": [],
   "source": [
    "import spacy\n",
    "from collections import Counter\n",
    "nlp = spacy.load(\"en_core_web_md\")\n",
    "nlp.max_length = 2000000"
   ]
  },
  {
   "cell_type": "code",
   "execution_count": 142,
   "metadata": {},
   "outputs": [
    {
     "name": "stdout",
     "output_type": "stream",
     "text": [
      "Filename:  1857_Annual_Report.txt\n",
      "the simlarity of Ms is: 0.24106560220553566\n",
      "the simlarity of Dr is: 0.2562038503695045\n",
      "Filename:  1858_Annual_Report.txt\n",
      "the simlarity of Ms is: 0.19936467477066355\n",
      "the simlarity of Dr is: 0.22779122895820775\n",
      "Filename:  1859_Annual_Report.txt\n",
      "the simlarity of Ms is: 0.1925111445443141\n",
      "the simlarity of Dr is: 0.22412724820340393\n",
      "Filename:  1860_Annual_Report.txt\n",
      "the simlarity of Ms is: 0.1905688549943001\n",
      "the simlarity of Dr is: 0.23165865447407682\n",
      "Filename:  1861_Annual_Report.txt\n",
      "the simlarity of Ms is: 0.1919515133121926\n",
      "the simlarity of Dr is: 0.22953629981020593\n",
      "Filename:  1862_Annual_Report.txt\n",
      "the simlarity of Ms is: 0.1933763234671373\n",
      "the simlarity of Dr is: 0.22321987457402548\n",
      "Filename:  1863_Annual_Report.txt\n",
      "the simlarity of Ms is: 0.1855965337646649\n",
      "the simlarity of Dr is: 0.21610998984628244\n",
      "Filename:  1864_Annual_Report.txt\n",
      "the simlarity of Ms is: 0.18894648791424468\n",
      "the simlarity of Dr is: 0.22004031835965318\n",
      "Filename:  1865_Annual_Report.txt\n",
      "the simlarity of Ms is: 0.19335568558537253\n",
      "the simlarity of Dr is: 0.2205500655662895\n",
      "Filename:  1866_Annual_Report.txt\n",
      "the simlarity of Ms is: 0.18000520654120944\n",
      "the simlarity of Dr is: 0.21623821238940416\n",
      "Filename:  1867_Annual_Report.txt\n",
      "the simlarity of Ms is: 0.19111866795215812\n",
      "the simlarity of Dr is: 0.23068174008284703\n",
      "Filename:  1868_Annual_Report.txt\n",
      "the simlarity of Ms is: 0.21927751742748067\n",
      "the simlarity of Dr is: 0.25902345790621356\n",
      "Filename:  1869_Annual_Report.txt\n",
      "the simlarity of Ms is: 0.1880950096843037\n",
      "the simlarity of Dr is: 0.22981674141655348\n",
      "Filename:  1870_Annual_Report.txt\n",
      "the simlarity of Ms is: 0.19548368079876816\n",
      "the simlarity of Dr is: 0.23860940867626607\n"
     ]
    }
   ],
   "source": [
    "#create a for loop that loops through the whole file folder and reads the file and saves it as a variable \"content\"\n",
    "import os\n",
    "\n",
    "doc1 = nlp(\"Ms\")\n",
    "doc2 = nlp(\"Dr\")\n",
    "doc3 = nlp(\"Miss\")\n",
    "doc4 = nlp(\"Mrs\")\n",
    "doc5 = nlp(\"Professor\")\n",
    "doc6 = nlp(\"Mr\")\n",
    "doc7 = nlp(\"Missus\")\n",
    "\n",
    "filepath = os.path.dirname('C:/Users/Grace Surface Book/OneDrive/Documents/GMU/Spring 2020/HIST 794 - Internship in Applied History/No Whitespace Annual Reports/1850-1880/')\n",
    "for subdir, dirs, file in os.walk(filepath):\n",
    "    for index, f in enumerate(file):\n",
    "        f = os.path.join(subdir, f)\n",
    "        fi = open(f)\n",
    "        with fi as fileName:\n",
    "            content = fileName.read()\n",
    "            list.append(content)\n",
    "            docum = nlp(content)\n",
    "#have the similarity part be \"docu[#]simularity1 = docu[#].similarity(doc1)\" - This is not quite done. Will need to investigate more the two lines below.\n",
    "            #docu = ''.join(str(index))\n",
    "            #print(\"docu is\", docu)\n",
    "        \n",
    "#print out the name of the file\n",
    "            print(\"Filename: \", file[index])\n",
    "    \n",
    "#print out the values for similarities 1-7 for that document\n",
    "            documentsimilarity1 = docum.similarity(doc1)\n",
    "            print(\"the simlarity of Ms is:\", documentsimilarity1)\n",
    "            documentsimilarity2 = docum.similarity(doc2)\n",
    "            print(\"the simlarity of Dr is:\", documentsimilarity2)\n",
    "            documentsimilarity3 = docum.similarity(doc3)\n",
    "            print(\"the simlarity of Miss is:\", documentsimilarity3)\n",
    "            documentsimilarity4 = docum.similarity(doc4)\n",
    "            print(\"the simlarity of Mrs is:\", documentsimilarity4)\n",
    "            documentsimilarity5 = docum.similarity(doc5)\n",
    "            print(\"the simlarity of Professor is:\", documentsimilarity5)            \n",
    "            documentsimilarity6 = docum.similarity(doc6)\n",
    "            print(\"the simlarity of Mr is:\", documentsimilarity6)            \n",
    "            documentsimilarity7 = docum.similarity(doc7)\n",
    "            print(\"the simlarity of Dr is:\", documentsimilarity7)            \n",
    "            \n",
    "#do the similarity for docu[2]comparesimilarity1 = docu[2]similarity1.docu[1]similarity1. - STILL NEED TO DO.\n"
   ]
  },
  {
   "cell_type": "code",
   "execution_count": 104,
   "metadata": {},
   "outputs": [],
   "source": [
    "annual_report_1967 = open(\"C:/Users/Grace Surface Book/OneDrive/Desktop/annual_report_1967.txt\",\"r\")\n",
    "docu1 = nlp(annual_report_1967.read())"
   ]
  },
  {
   "cell_type": "code",
   "execution_count": 14,
   "metadata": {},
   "outputs": [
    {
     "name": "stdout",
     "output_type": "stream",
     "text": [
      "The similarity within the 1967 Annual Report:\n",
      "Ms: 0.2538131794291593\n",
      "Dr: 0.2964548957425836\n",
      "Miss: 0.47649851034011714\n",
      "Mrs: 0.11580516548589292\n",
      "Professor: 0.3740391610848687\n",
      "Mr: 0.29941201100079434\n",
      "Missus: 0.18008186375829544\n"
     ]
    }
   ],
   "source": [
    "doc1 = nlp(\"Ms\")\n",
    "doc2 = nlp(\"Dr\")\n",
    "doc3 = nlp(\"Miss\")\n",
    "doc4 = nlp(\"Mrs\")\n",
    "doc5 = nlp(\"Professor\")\n",
    "doc6 = nlp(\"Mr\")\n",
    "doc7 = nlp(\"Missus\")\n",
    "\n",
    "similarity1 = docu1.similarity(doc1)\n",
    "similarity2 = docu1.similarity(doc2)\n",
    "similarity3 = docu1.similarity(doc3)\n",
    "similarity4 = docu1.similarity(doc4)\n",
    "similarity5 = docu1.similarity(doc5)\n",
    "similarity6 = docu1.similarity(doc6)\n",
    "similarity7 = docu1.similarity(doc7)\n",
    "print(\"The similarity within the 1967 Annual Report:\")\n",
    "print('Ms:', similarity1)\n",
    "print('Dr:', similarity2)\n",
    "print('Miss:', similarity3)\n",
    "print('Mrs:', similarity4)\n",
    "print('Professor:', similarity5)\n",
    "print('Mr:', similarity6)\n",
    "print('Missus:', similarity7)"
   ]
  },
  {
   "cell_type": "code",
   "execution_count": 25,
   "metadata": {},
   "outputs": [],
   "source": [
    "annual_report_1849 = open(\"C:/Users/Grace Surface Book/OneDrive/Documents/GMU/Spring 2020/HIST 794 - Internship in Applied History/No Whitespace Annual Reports/annualreporto18491961smit_djvu (1).txt\", \"r\")\n",
    "docu2 = nlp(annual_report_1849.read())"
   ]
  },
  {
   "cell_type": "code",
   "execution_count": 26,
   "metadata": {
    "scrolled": true
   },
   "outputs": [
    {
     "name": "stdout",
     "output_type": "stream",
     "text": [
      "The similarity within the 1849 Annual Report:\n",
      "Ms: 0.332651926585802\n",
      "Dr: 0.35161969560336803\n",
      "Miss: 0.4117646191124662\n",
      "Mrs: 0.12002810510536133\n",
      "Professor: 0.2947190883374591\n",
      "Mr: 0.3436716305648986\n",
      "Missus: 0.11320671917508766\n"
     ]
    }
   ],
   "source": [
    "doc1 = nlp(\"Ms\")\n",
    "doc2 = nlp(\"Dr\")\n",
    "doc3 = nlp(\"Miss\")\n",
    "doc4 = nlp(\"Mrs\")\n",
    "doc5 = nlp(\"Professor\")\n",
    "doc6 = nlp(\"Mr\")\n",
    "doc7 = nlp(\"Missus\")\n",
    "\n",
    "similarity1 = docu2.similarity(doc1)\n",
    "similarity2 = docu2.similarity(doc2)\n",
    "similarity3 = docu2.similarity(doc3)\n",
    "similarity4 = docu2.similarity(doc4)\n",
    "similarity5 = docu2.similarity(doc5)\n",
    "similarity6 = docu2.similarity(doc6)\n",
    "similarity7 = docu2.similarity(doc7)\n",
    "print(\"The similarity within the 1849 Annual Report:\")\n",
    "print('Ms:', similarity1)\n",
    "print('Dr:', similarity2)\n",
    "print('Miss:', similarity3)\n",
    "print('Mrs:', similarity4)\n",
    "print('Professor:', similarity5)\n",
    "print('Mr:', similarity6)\n",
    "print('Missus:', similarity7)"
   ]
  },
  {
   "cell_type": "code",
   "execution_count": 29,
   "metadata": {},
   "outputs": [
    {
     "name": "stdout",
     "output_type": "stream",
     "text": [
      "hash value: 9787940499352115096\n",
      "hash value: 12921814047719899021\n",
      "string value: Smithsonian\n",
      "string value: Dr.\n"
     ]
    }
   ],
   "source": [
    "print('hash value:', nlp.vocab.strings['Smithsonian'])\n",
    "print('hash value:', nlp.vocab.strings['Dr.'])\n",
    "print('string value:', nlp.vocab.strings[9787940499352115096])\n",
    "print('string value:', nlp.vocab.strings[12921814047719899021])"
   ]
  },
  {
   "cell_type": "code",
   "execution_count": 2,
   "metadata": {},
   "outputs": [
    {
     "ename": "AttributeError",
     "evalue": "'_io.TextIOWrapper' object has no attribute 'strip'",
     "output_type": "error",
     "traceback": [
      "\u001b[1;31m---------------------------------------------------------------------------\u001b[0m",
      "\u001b[1;31mAttributeError\u001b[0m                            Traceback (most recent call last)",
      "\u001b[1;32m<ipython-input-2-10fe09094805>\u001b[0m in \u001b[0;36m<module>\u001b[1;34m\u001b[0m\n\u001b[0;32m      1\u001b[0m \u001b[0mannual_report_1847\u001b[0m \u001b[1;33m=\u001b[0m \u001b[0mopen\u001b[0m\u001b[1;33m(\u001b[0m\u001b[1;34m\"C:/Users/Grace Surface Book/OneDrive/Documents/GMU/Spring 2020/HIST 794 - Internship in Applied History/spaCy-Annual Reports/si_report_1847.txt\"\u001b[0m\u001b[1;33m,\u001b[0m \u001b[1;34m\"r\"\u001b[0m\u001b[1;33m)\u001b[0m\u001b[1;33m\u001b[0m\u001b[1;33m\u001b[0m\u001b[0m\n\u001b[0;32m      2\u001b[0m \u001b[1;32mfor\u001b[0m \u001b[0mi\u001b[0m \u001b[1;32min\u001b[0m \u001b[0mannual_report_1847\u001b[0m\u001b[1;33m:\u001b[0m\u001b[1;33m\u001b[0m\u001b[1;33m\u001b[0m\u001b[0m\n\u001b[1;32m----> 3\u001b[1;33m     \u001b[0mnowhitespace\u001b[0m \u001b[1;33m=\u001b[0m \u001b[0mannual_report_1847\u001b[0m\u001b[1;33m.\u001b[0m\u001b[0mstrip\u001b[0m\u001b[1;33m(\u001b[0m\u001b[1;33m)\u001b[0m\u001b[1;33m\u001b[0m\u001b[1;33m\u001b[0m\u001b[0m\n\u001b[0m",
      "\u001b[1;31mAttributeError\u001b[0m: '_io.TextIOWrapper' object has no attribute 'strip'"
     ]
    }
   ],
   "source": [
    "#annual_report_1847 = open(\"C:/Users/Grace Surface Book/OneDrive/Documents/GMU/Spring 2020/HIST 794 - Internship in Applied History/spaCy-Annual Reports/si_report_1847.txt\", \"r\")\n",
    "#for i in annual_report_1847:\n",
    "#    nowhitespace = annual_report_1847.strip()"
   ]
  }
 ],
 "metadata": {
  "kernelspec": {
   "display_name": "Python 3",
   "language": "python",
   "name": "python3"
  },
  "language_info": {
   "codemirror_mode": {
    "name": "ipython",
    "version": 3
   },
   "file_extension": ".py",
   "mimetype": "text/x-python",
   "name": "python",
   "nbconvert_exporter": "python",
   "pygments_lexer": "ipython3",
   "version": "3.7.4"
  }
 },
 "nbformat": 4,
 "nbformat_minor": 2
}
